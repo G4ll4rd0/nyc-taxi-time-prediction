{
 "cells": [
  {
   "cell_type": "code",
   "execution_count": 1,
   "metadata": {},
   "outputs": [],
   "source": [
    "import pathlib\n",
    "import pickle\n",
    "from datetime import datetime\n",
    "\n",
    "import dagshub\n",
    "import mlflow\n",
    "import pandas as pd\n",
    "import utils\n",
    "from hyperopt import STATUS_OK, Trials, fmin, hp, tpe\n",
    "from hyperopt.pyll import scope\n",
    "from sklearn.ensemble import GradientBoostingRegressor, RandomForestRegressor\n",
    "from sklearn.feature_extraction import DictVectorizer\n",
    "from sklearn.metrics import root_mean_squared_error, r2_score, mean_absolute_percentage_error"
   ]
  },
  {
   "cell_type": "code",
   "execution_count": 2,
   "metadata": {},
   "outputs": [
    {
     "data": {
      "text/html": [
       "<pre style=\"white-space:pre;overflow-x:auto;line-height:normal;font-family:Menlo,'DejaVu Sans Mono',consolas,'Courier New',monospace\">Accessing as G4ll4rd0\n",
       "</pre>\n"
      ],
      "text/plain": [
       "Accessing as G4ll4rd0\n"
      ]
     },
     "metadata": {},
     "output_type": "display_data"
    },
    {
     "data": {
      "text/html": [
       "<pre style=\"white-space:pre;overflow-x:auto;line-height:normal;font-family:Menlo,'DejaVu Sans Mono',consolas,'Courier New',monospace\">Initialized MLflow to track repo <span style=\"color: #008000; text-decoration-color: #008000\">\"G4ll4rd0/nyc-taxi-time-prediction\"</span>\n",
       "</pre>\n"
      ],
      "text/plain": [
       "Initialized MLflow to track repo \u001b[32m\"G4ll4rd0/nyc-taxi-time-prediction\"\u001b[0m\n"
      ]
     },
     "metadata": {},
     "output_type": "display_data"
    },
    {
     "data": {
      "text/html": [
       "<pre style=\"white-space:pre;overflow-x:auto;line-height:normal;font-family:Menlo,'DejaVu Sans Mono',consolas,'Courier New',monospace\">Repository G4ll4rd0/nyc-taxi-time-prediction initialized!\n",
       "</pre>\n"
      ],
      "text/plain": [
       "Repository G4ll4rd0/nyc-taxi-time-prediction initialized!\n"
      ]
     },
     "metadata": {},
     "output_type": "display_data"
    },
    {
     "name": "stdout",
     "output_type": "stream",
     "text": [
      "https://dagshub.com/G4ll4rd0/nyc-taxi-time-prediction.mlflow\n"
     ]
    },
    {
     "data": {
      "text/plain": [
       "<Experiment: artifact_location='mlflow-artifacts:/63ce2eff028d42fda8747e5857239051', creation_time=1726773560535, experiment_id='0', last_update_time=1726773560535, lifecycle_stage='active', name='nyc-taxi-experiment', tags={}>"
      ]
     },
     "execution_count": 2,
     "metadata": {},
     "output_type": "execute_result"
    }
   ],
   "source": [
    "dagshub.init(url=\"https://dagshub.com/G4ll4rd0/nyc-taxi-time-prediction\", mlflow=True)\n",
    "\n",
    "MLFLOW_TRACKING_URI = mlflow.get_tracking_uri()\n",
    "\n",
    "print(MLFLOW_TRACKING_URI)\n",
    "\n",
    "mlflow.set_tracking_uri(MLFLOW_TRACKING_URI)\n",
    "mlflow.set_experiment(experiment_name=\"nyc-taxi-experiment\")"
   ]
  },
  {
   "cell_type": "code",
   "execution_count": 3,
   "metadata": {},
   "outputs": [],
   "source": [
    "df_train = utils.read_dataframe('../data/green_tripdata_2024-01.parquet')\n",
    "df_val = utils.read_dataframe('../data/green_tripdata_2024-02.parquet')"
   ]
  },
  {
   "cell_type": "code",
   "execution_count": 4,
   "metadata": {},
   "outputs": [],
   "source": [
    "df_train['PU_DO'] = df_train['PULocationID'] + '_' + df_train['DOLocationID']\n",
    "df_val['PU_DO'] = df_val['PULocationID'] + '_' + df_val['DOLocationID']"
   ]
  },
  {
   "cell_type": "code",
   "execution_count": 5,
   "metadata": {},
   "outputs": [],
   "source": [
    "categorical = ['PU_DO']  #'PULocationID', 'DOLocationID']\n",
    "numerical = ['trip_distance']\n",
    "dv = DictVectorizer()\n",
    "\n",
    "train_dicts = df_train[categorical + numerical].to_dict(orient='records')\n",
    "X_train = dv.fit_transform(train_dicts)\n",
    "\n",
    "val_dicts = df_val[categorical + numerical].to_dict(orient='records')\n",
    "X_val = dv.transform(val_dicts)"
   ]
  },
  {
   "cell_type": "code",
   "execution_count": 6,
   "metadata": {},
   "outputs": [],
   "source": [
    "target = 'duration'\n",
    "y_train = df_train[target].values\n",
    "y_val = df_val[target].values"
   ]
  },
  {
   "cell_type": "code",
   "execution_count": 7,
   "metadata": {},
   "outputs": [],
   "source": [
    "training_dataset = mlflow.data.from_numpy(X_train.data, targets=y_train, name=\"green_tripdata_2024-01\")\n",
    "validation_dataset = mlflow.data.from_numpy(X_val.data, targets=y_val, name=\"green_tripdata_2024-02\")"
   ]
  },
  {
   "cell_type": "code",
   "execution_count": 8,
   "metadata": {},
   "outputs": [
    {
     "name": "stderr",
     "output_type": "stream",
     "text": [
      "2024/09/19 20:29:16 WARNING mlflow.utils.autologging_utils: MLflow sklearn autologging is known to be compatible with 0.24.1 <= scikit-learn <= 1.5.1, but the installed version is 1.5.2. If you encounter errors during autologging, try upgrading / downgrading scikit-learn to a compatible version, or try upgrading MLflow.\n"
     ]
    }
   ],
   "source": [
    "mlflow.sklearn.autolog()"
   ]
  },
  {
   "cell_type": "markdown",
   "metadata": {},
   "source": [
    "# GradientBoosting"
   ]
  },
  {
   "cell_type": "code",
   "execution_count": 9,
   "metadata": {},
   "outputs": [],
   "source": [
    "def objective(params):\n",
    "    with mlflow.start_run(nested=True):\n",
    "         \n",
    "        # Tag model\n",
    "        mlflow.set_tag(\"model_family\", \"GradientBoost\")\n",
    "        \n",
    "        # Log parameters\n",
    "        mlflow.log_params(params)\n",
    "        \n",
    "        # Train model\n",
    "        booster = GradientBoostingRegressor(**params).fit(X_train, y_train)\n",
    "        \n",
    "        # Log xgboost model with artifact_path\n",
    "        mlflow.sklearn.log_model(booster, artifact_path=\"model\")\n",
    "\n",
    "        # Predict in the val dataset\n",
    "        y_pred = booster.predict(X_val)\n",
    "\n",
    "        # Calculate metric\n",
    "        rmse = root_mean_squared_error(y_val, y_pred)\n",
    "\n",
    "        # Log performance metric\n",
    "        mlflow.log_metric(\"rmse\", rmse)\n",
    "\n",
    "    return {'loss': rmse, 'status': STATUS_OK}"
   ]
  },
  {
   "cell_type": "markdown",
   "metadata": {},
   "source": [
    "Definir el espacio de búsqueda"
   ]
  },
  {
   "cell_type": "code",
   "execution_count": 10,
   "metadata": {},
   "outputs": [
    {
     "name": "stdout",
     "output_type": "stream",
     "text": [
      "  0%|          | 0/10 [00:00<?, ?trial/s, best loss=?]"
     ]
    },
    {
     "name": "stderr",
     "output_type": "stream",
     "text": [
      "2024/09/19 20:29:18 WARNING mlflow.sklearn: Failed to log training dataset information to MLflow Tracking. Reason: 'numpy.ndarray' object has no attribute 'toarray'\n",
      "\n",
      "2024/09/19 20:32:38 WARNING mlflow.models.model: Model logged without a signature and input example. Please set `input_example` parameter when logging the model to auto infer the model signature.\n",
      "\n",
      "2024/09/19 20:32:49 INFO mlflow.tracking._tracking_service.client: 🏃 View run beautiful-croc-570 at: https://dagshub.com/G4ll4rd0/nyc-taxi-time-prediction.mlflow/#/experiments/0/runs/f09529bfb06c4bf6896afbf0a987f977.\n",
      "\n",
      "2024/09/19 20:32:49 INFO mlflow.tracking._tracking_service.client: 🧪 View experiment at: https://dagshub.com/G4ll4rd0/nyc-taxi-time-prediction.mlflow/#/experiments/0.\n",
      "\n"
     ]
    },
    {
     "name": "stdout",
     "output_type": "stream",
     "text": [
      " 10%|█         | 1/10 [03:31<31:40, 211.12s/trial, best loss: 5.4451349464189045]"
     ]
    },
    {
     "name": "stderr",
     "output_type": "stream",
     "text": [
      "2024/09/19 20:32:50 WARNING mlflow.sklearn: Failed to log training dataset information to MLflow Tracking. Reason: 'numpy.ndarray' object has no attribute 'toarray'\n",
      "\n",
      "2024/09/19 20:33:49 WARNING mlflow.models.model: Model logged without a signature and input example. Please set `input_example` parameter when logging the model to auto infer the model signature.\n",
      "\n",
      "2024/09/19 20:33:59 INFO mlflow.tracking._tracking_service.client: 🏃 View run delightful-robin-361 at: https://dagshub.com/G4ll4rd0/nyc-taxi-time-prediction.mlflow/#/experiments/0/runs/dca26f968d2f4ae584ebbc09721d7380.\n",
      "\n",
      "2024/09/19 20:33:59 INFO mlflow.tracking._tracking_service.client: 🧪 View experiment at: https://dagshub.com/G4ll4rd0/nyc-taxi-time-prediction.mlflow/#/experiments/0.\n",
      "\n"
     ]
    },
    {
     "name": "stdout",
     "output_type": "stream",
     "text": [
      " 20%|██        | 2/10 [04:41<17:06, 128.27s/trial, best loss: 5.2536230297782165]"
     ]
    },
    {
     "name": "stderr",
     "output_type": "stream",
     "text": [
      "2024/09/19 20:34:00 WARNING mlflow.sklearn: Failed to log training dataset information to MLflow Tracking. Reason: 'numpy.ndarray' object has no attribute 'toarray'\n",
      "\n",
      "2024/09/19 20:35:33 WARNING mlflow.models.model: Model logged without a signature and input example. Please set `input_example` parameter when logging the model to auto infer the model signature.\n",
      "\n",
      "2024/09/19 20:35:41 INFO mlflow.tracking._tracking_service.client: 🏃 View run skillful-wasp-215 at: https://dagshub.com/G4ll4rd0/nyc-taxi-time-prediction.mlflow/#/experiments/0/runs/74ba6839920c4203875301ee4ae041f9.\n",
      "\n",
      "2024/09/19 20:35:41 INFO mlflow.tracking._tracking_service.client: 🧪 View experiment at: https://dagshub.com/G4ll4rd0/nyc-taxi-time-prediction.mlflow/#/experiments/0.\n",
      "\n"
     ]
    },
    {
     "name": "stdout",
     "output_type": "stream",
     "text": [
      " 30%|███       | 3/10 [06:23<13:33, 116.20s/trial, best loss: 5.2536230297782165]"
     ]
    },
    {
     "name": "stderr",
     "output_type": "stream",
     "text": [
      "2024/09/19 20:35:42 WARNING mlflow.sklearn: Failed to log training dataset information to MLflow Tracking. Reason: 'numpy.ndarray' object has no attribute 'toarray'\n",
      "\n",
      "2024/09/19 20:36:55 WARNING mlflow.models.model: Model logged without a signature and input example. Please set `input_example` parameter when logging the model to auto infer the model signature.\n",
      "\n",
      "2024/09/19 20:37:04 INFO mlflow.tracking._tracking_service.client: 🏃 View run youthful-grouse-368 at: https://dagshub.com/G4ll4rd0/nyc-taxi-time-prediction.mlflow/#/experiments/0/runs/9604706aefe84fe2b3738bf86803901c.\n",
      "\n",
      "2024/09/19 20:37:04 INFO mlflow.tracking._tracking_service.client: 🧪 View experiment at: https://dagshub.com/G4ll4rd0/nyc-taxi-time-prediction.mlflow/#/experiments/0.\n",
      "\n"
     ]
    },
    {
     "name": "stdout",
     "output_type": "stream",
     "text": [
      " 40%|████      | 4/10 [07:46<10:18, 103.11s/trial, best loss: 5.2536230297782165]"
     ]
    },
    {
     "name": "stderr",
     "output_type": "stream",
     "text": [
      "2024/09/19 20:37:05 WARNING mlflow.sklearn: Failed to log training dataset information to MLflow Tracking. Reason: 'numpy.ndarray' object has no attribute 'toarray'\n",
      "\n",
      "2024/09/19 20:39:11 WARNING mlflow.models.model: Model logged without a signature and input example. Please set `input_example` parameter when logging the model to auto infer the model signature.\n",
      "\n",
      "2024/09/19 20:39:20 INFO mlflow.tracking._tracking_service.client: 🏃 View run thoughtful-carp-478 at: https://dagshub.com/G4ll4rd0/nyc-taxi-time-prediction.mlflow/#/experiments/0/runs/a5a959269ce4429a853a1cfc4be94d47.\n",
      "\n",
      "2024/09/19 20:39:20 INFO mlflow.tracking._tracking_service.client: 🧪 View experiment at: https://dagshub.com/G4ll4rd0/nyc-taxi-time-prediction.mlflow/#/experiments/0.\n",
      "\n"
     ]
    },
    {
     "name": "stdout",
     "output_type": "stream",
     "text": [
      " 50%|█████     | 5/10 [10:02<09:35, 115.14s/trial, best loss: 5.2536230297782165]"
     ]
    },
    {
     "name": "stderr",
     "output_type": "stream",
     "text": [
      "2024/09/19 20:39:21 WARNING mlflow.sklearn: Failed to log training dataset information to MLflow Tracking. Reason: 'numpy.ndarray' object has no attribute 'toarray'\n",
      "\n",
      "2024/09/19 20:41:33 WARNING mlflow.models.model: Model logged without a signature and input example. Please set `input_example` parameter when logging the model to auto infer the model signature.\n",
      "\n",
      "2024/09/19 20:41:44 INFO mlflow.tracking._tracking_service.client: 🏃 View run wistful-stag-644 at: https://dagshub.com/G4ll4rd0/nyc-taxi-time-prediction.mlflow/#/experiments/0/runs/321dfefd03cd4a06bef40b13e295633d.\n",
      "\n",
      "2024/09/19 20:41:44 INFO mlflow.tracking._tracking_service.client: 🧪 View experiment at: https://dagshub.com/G4ll4rd0/nyc-taxi-time-prediction.mlflow/#/experiments/0.\n",
      "\n"
     ]
    },
    {
     "name": "stdout",
     "output_type": "stream",
     "text": [
      " 60%|██████    | 6/10 [12:26<08:19, 124.81s/trial, best loss: 5.2536230297782165]"
     ]
    },
    {
     "name": "stderr",
     "output_type": "stream",
     "text": [
      "2024/09/19 20:41:45 WARNING mlflow.sklearn: Failed to log training dataset information to MLflow Tracking. Reason: 'numpy.ndarray' object has no attribute 'toarray'\n",
      "\n",
      "2024/09/19 20:42:09 WARNING mlflow.models.model: Model logged without a signature and input example. Please set `input_example` parameter when logging the model to auto infer the model signature.\n",
      "\n",
      "2024/09/19 20:42:15 INFO mlflow.tracking._tracking_service.client: 🏃 View run charming-hound-429 at: https://dagshub.com/G4ll4rd0/nyc-taxi-time-prediction.mlflow/#/experiments/0/runs/a148803b9c824d358ade337a7c14a4ad.\n",
      "\n",
      "2024/09/19 20:42:15 INFO mlflow.tracking._tracking_service.client: 🧪 View experiment at: https://dagshub.com/G4ll4rd0/nyc-taxi-time-prediction.mlflow/#/experiments/0.\n",
      "\n"
     ]
    },
    {
     "name": "stdout",
     "output_type": "stream",
     "text": [
      " 70%|███████   | 7/10 [12:57<04:42, 94.06s/trial, best loss: 5.2536230297782165] "
     ]
    },
    {
     "name": "stderr",
     "output_type": "stream",
     "text": [
      "2024/09/19 20:42:16 WARNING mlflow.sklearn: Failed to log training dataset information to MLflow Tracking. Reason: 'numpy.ndarray' object has no attribute 'toarray'\n",
      "\n",
      "2024/09/19 20:42:37 WARNING mlflow.models.model: Model logged without a signature and input example. Please set `input_example` parameter when logging the model to auto infer the model signature.\n",
      "\n",
      "2024/09/19 20:42:43 INFO mlflow.tracking._tracking_service.client: 🏃 View run worried-steed-376 at: https://dagshub.com/G4ll4rd0/nyc-taxi-time-prediction.mlflow/#/experiments/0/runs/39e22f552fa642a6b673cc1a4bc72627.\n",
      "\n",
      "2024/09/19 20:42:43 INFO mlflow.tracking._tracking_service.client: 🧪 View experiment at: https://dagshub.com/G4ll4rd0/nyc-taxi-time-prediction.mlflow/#/experiments/0.\n",
      "\n"
     ]
    },
    {
     "name": "stdout",
     "output_type": "stream",
     "text": [
      " 80%|████████  | 8/10 [13:25<02:26, 73.10s/trial, best loss: 5.2536230297782165]"
     ]
    },
    {
     "name": "stderr",
     "output_type": "stream",
     "text": [
      "2024/09/19 20:42:44 WARNING mlflow.sklearn: Failed to log training dataset information to MLflow Tracking. Reason: 'numpy.ndarray' object has no attribute 'toarray'\n",
      "\n",
      "2024/09/19 20:43:24 WARNING mlflow.models.model: Model logged without a signature and input example. Please set `input_example` parameter when logging the model to auto infer the model signature.\n",
      "\n",
      "2024/09/19 20:43:29 INFO mlflow.tracking._tracking_service.client: 🏃 View run useful-flea-442 at: https://dagshub.com/G4ll4rd0/nyc-taxi-time-prediction.mlflow/#/experiments/0/runs/0c330af15eda4325ab6e40e657486c70.\n",
      "\n",
      "2024/09/19 20:43:29 INFO mlflow.tracking._tracking_service.client: 🧪 View experiment at: https://dagshub.com/G4ll4rd0/nyc-taxi-time-prediction.mlflow/#/experiments/0.\n",
      "\n"
     ]
    },
    {
     "name": "stdout",
     "output_type": "stream",
     "text": [
      " 90%|█████████ | 9/10 [14:11<01:04, 64.83s/trial, best loss: 5.249297572869492] "
     ]
    },
    {
     "name": "stderr",
     "output_type": "stream",
     "text": [
      "2024/09/19 20:43:30 WARNING mlflow.sklearn: Failed to log training dataset information to MLflow Tracking. Reason: 'numpy.ndarray' object has no attribute 'toarray'\n",
      "\n",
      "2024/09/19 20:44:35 WARNING mlflow.models.model: Model logged without a signature and input example. Please set `input_example` parameter when logging the model to auto infer the model signature.\n",
      "\n",
      "2024/09/19 20:44:41 INFO mlflow.tracking._tracking_service.client: 🏃 View run shivering-mule-843 at: https://dagshub.com/G4ll4rd0/nyc-taxi-time-prediction.mlflow/#/experiments/0/runs/0aaa5022cab940b289016567ee065166.\n",
      "\n",
      "2024/09/19 20:44:41 INFO mlflow.tracking._tracking_service.client: 🧪 View experiment at: https://dagshub.com/G4ll4rd0/nyc-taxi-time-prediction.mlflow/#/experiments/0.\n",
      "\n"
     ]
    },
    {
     "name": "stdout",
     "output_type": "stream",
     "text": [
      "100%|██████████| 10/10 [15:23<00:00, 92.36s/trial, best loss: 5.249297572869492]\n"
     ]
    },
    {
     "name": "stderr",
     "output_type": "stream",
     "text": [
      "2024/09/19 20:44:42 WARNING mlflow.sklearn: Failed to log training dataset information to MLflow Tracking. Reason: 'numpy.ndarray' object has no attribute 'toarray'\n",
      "2024/09/19 20:45:28 INFO mlflow.tracking._tracking_service.client: 🏃 View run GradientBoosting Hyper-parameter Optimization at: https://dagshub.com/G4ll4rd0/nyc-taxi-time-prediction.mlflow/#/experiments/0/runs/4eb841d914494fffb70c0eb5c7119ae2.\n",
      "2024/09/19 20:45:28 INFO mlflow.tracking._tracking_service.client: 🧪 View experiment at: https://dagshub.com/G4ll4rd0/nyc-taxi-time-prediction.mlflow/#/experiments/0.\n"
     ]
    }
   ],
   "source": [
    "with mlflow.start_run(run_name=\"GradientBoosting Hyper-parameter Optimization\", nested=True):\n",
    "    search_space = {\n",
    "        'max_depth': scope.int(hp.quniform('max_depth', 4, 100, 1)),\n",
    "        'learning_rate': hp.loguniform('learning_rate', -3, 0),\n",
    "        'loss': 'squared_error',\n",
    "        'random_state': 20020906\n",
    "    }\n",
    "\n",
    "    best_params = fmin(\n",
    "        fn=objective,\n",
    "        space=search_space,\n",
    "        algo=tpe.suggest,\n",
    "        max_evals=10,\n",
    "        trials=Trials()\n",
    "    )\n",
    "    best_params[\"max_depth\"] = int(best_params[\"max_depth\"])\n",
    "    best_params[\"random_state\"] = 20020906\n",
    "    best_params[\"loss\"] = \"squared_error\"\n",
    "\n",
    "    mlflow.log_params(best_params)\n",
    "\n",
    "    # Log tags\n",
    "    mlflow.set_tags(\n",
    "        tags={\n",
    "            \"project\": \"NYC Taxi Time Prediction Project\",\n",
    "            \"optimizer_engine\": \"hyper-opt\",\n",
    "            \"model_family\": \"GradientBoost\",\n",
    "            \"feature_set_version\": 1,\n",
    "        }\n",
    "    )\n",
    "\n",
    "    # Log a fit model instance\n",
    "    booster = GradientBoostingRegressor(**best_params).fit(X_train, y_train)\n",
    "\n",
    "    y_pred = booster.predict(X_val)\n",
    "\n",
    "    rmse = root_mean_squared_error(y_val, y_pred)\n",
    "    mlflow.log_metric(\"rmse\", rmse)\n",
    "\n",
    "    pathlib.Path(\"models\").mkdir(exist_ok=True)\n",
    "    with open(\"models/preprocessor.b\", \"wb\") as f_out:\n",
    "        pickle.dump(dv, f_out)\n",
    "\n",
    "    mlflow.log_artifact(\"models/preprocessor.b\", artifact_path=\"preprocessor\")"
   ]
  },
  {
   "cell_type": "code",
   "execution_count": 11,
   "metadata": {},
   "outputs": [
    {
     "name": "stderr",
     "output_type": "stream",
     "text": [
      "Registered model 'nyc-taxi-model' already exists. Creating a new version of this model...\n",
      "2024/09/19 20:46:47 INFO mlflow.store.model_registry.abstract_store: Waiting up to 300 seconds for model version to finish creation. Model name: nyc-taxi-model, version 2\n",
      "Created version '2' of model 'nyc-taxi-model'.\n"
     ]
    }
   ],
   "source": [
    "run_id = input(\"Ingrese el run_id\")\n",
    "run_uri = f\"runs:/{run_id}/model\"\n",
    "\n",
    "result = mlflow.register_model(\n",
    "    model_uri=run_uri,\n",
    "    name=\"nyc-taxi-model\"\n",
    ")"
   ]
  },
  {
   "cell_type": "code",
   "execution_count": 12,
   "metadata": {},
   "outputs": [
    {
     "data": {
      "text/plain": [
       "<ModelVersion: aliases=['GradientChallenger'], creation_timestamp=1726800408780, current_stage='None', description=('The model version 2 was transitioned to GradientChallenger on 2024-09-19 '\n",
       " '20:46:48.220837'), last_updated_timestamp=1726800409354, name='nyc-taxi-model', run_id='4eb841d914494fffb70c0eb5c7119ae2', run_link='', source='mlflow-artifacts:/63ce2eff028d42fda8747e5857239051/4eb841d914494fffb70c0eb5c7119ae2/artifacts/model', status='READY', status_message='', tags={}, user_id='', version='2'>"
      ]
     },
     "execution_count": 12,
     "metadata": {},
     "output_type": "execute_result"
    }
   ],
   "source": [
    "client = mlflow.MlflowClient(tracking_uri=MLFLOW_TRACKING_URI)\n",
    "client.update_registered_model(\n",
    "    name=\"nyc-taxi-model\",\n",
    "    description=\"Model registry for the NYC Taxi Time Prediction Project\",\n",
    ")\n",
    "\n",
    "new_alias = \"GradientChallenger\"\n",
    "date = datetime.today()\n",
    "model_version = \"2\"\n",
    "\n",
    "# create \"champion\" alias for version 1 of model \"nyc-taxi-model\"\n",
    "client.set_registered_model_alias(\n",
    "    name=\"nyc-taxi-model\",\n",
    "    alias=new_alias,\n",
    "    version=model_version\n",
    ")\n",
    "\n",
    "client.update_model_version(\n",
    "    name=\"nyc-taxi-model\",\n",
    "    version=model_version,\n",
    "    description=f\"The model version {model_version} was transitioned to {new_alias} on {date}\",\n",
    ")"
   ]
  },
  {
   "cell_type": "markdown",
   "metadata": {},
   "source": [
    "# RandomForest"
   ]
  },
  {
   "cell_type": "code",
   "execution_count": 13,
   "metadata": {},
   "outputs": [],
   "source": [
    "def objective(params):\n",
    "    with mlflow.start_run(nested=True):\n",
    "\n",
    "        # Tag model\n",
    "        mlflow.set_tag(\"model_family\", \"RandomForest\")\n",
    "        \n",
    "        # Log parameters\n",
    "        mlflow.log_params(params)\n",
    "        \n",
    "        # Train model\n",
    "        booster = RandomForestRegressor(**params).fit(X_train, y_train)\n",
    "        \n",
    "        # Log xgboost model with artifact_path\n",
    "        mlflow.sklearn.log_model(booster, artifact_path=\"model\")\n",
    "\n",
    "        # Predict in the val dataset\n",
    "        y_pred = booster.predict(X_val)\n",
    "\n",
    "        # Calculate metric\n",
    "        rmse = root_mean_squared_error(y_val, y_pred)\n",
    "\n",
    "        # Log performance metric\n",
    "        mlflow.log_metric(\"rmse\", rmse)\n",
    "\n",
    "    return {'loss': rmse, 'status': STATUS_OK}"
   ]
  },
  {
   "cell_type": "code",
   "execution_count": 14,
   "metadata": {},
   "outputs": [
    {
     "name": "stdout",
     "output_type": "stream",
     "text": [
      "  0%|          | 0/10 [00:00<?, ?trial/s, best loss=?]"
     ]
    },
    {
     "name": "stderr",
     "output_type": "stream",
     "text": [
      "2024/09/19 20:46:49 WARNING mlflow.sklearn: Failed to log training dataset information to MLflow Tracking. Reason: 'numpy.ndarray' object has no attribute 'toarray'\n",
      "\n",
      "2024/09/19 20:47:18 WARNING mlflow.models.model: Model logged without a signature and input example. Please set `input_example` parameter when logging the model to auto infer the model signature.\n",
      "\n",
      "2024/09/19 20:47:24 INFO mlflow.tracking._tracking_service.client: 🏃 View run learned-newt-451 at: https://dagshub.com/G4ll4rd0/nyc-taxi-time-prediction.mlflow/#/experiments/0/runs/1d6944c1d84046b2bb15435d4592aed1.\n",
      "\n",
      "2024/09/19 20:47:24 INFO mlflow.tracking._tracking_service.client: 🧪 View experiment at: https://dagshub.com/G4ll4rd0/nyc-taxi-time-prediction.mlflow/#/experiments/0.\n",
      "\n"
     ]
    },
    {
     "name": "stdout",
     "output_type": "stream",
     "text": [
      " 10%|█         | 1/10 [00:35<05:23, 35.97s/trial, best loss: 5.465890014385762]"
     ]
    },
    {
     "name": "stderr",
     "output_type": "stream",
     "text": [
      "2024/09/19 20:47:25 WARNING mlflow.sklearn: Failed to log training dataset information to MLflow Tracking. Reason: 'numpy.ndarray' object has no attribute 'toarray'\n",
      "\n",
      "2024/09/19 20:47:55 WARNING mlflow.models.model: Model logged without a signature and input example. Please set `input_example` parameter when logging the model to auto infer the model signature.\n",
      "\n",
      "2024/09/19 20:48:01 INFO mlflow.tracking._tracking_service.client: 🏃 View run sneaky-lark-323 at: https://dagshub.com/G4ll4rd0/nyc-taxi-time-prediction.mlflow/#/experiments/0/runs/7390c025a47b4ec5b3ab127eb021e7a1.\n",
      "\n",
      "2024/09/19 20:48:01 INFO mlflow.tracking._tracking_service.client: 🧪 View experiment at: https://dagshub.com/G4ll4rd0/nyc-taxi-time-prediction.mlflow/#/experiments/0.\n",
      "\n"
     ]
    },
    {
     "name": "stdout",
     "output_type": "stream",
     "text": [
      " 20%|██        | 2/10 [01:12<04:51, 36.45s/trial, best loss: 5.464003457608055]"
     ]
    },
    {
     "name": "stderr",
     "output_type": "stream",
     "text": [
      "2024/09/19 20:48:02 WARNING mlflow.sklearn: Failed to log training dataset information to MLflow Tracking. Reason: 'numpy.ndarray' object has no attribute 'toarray'\n",
      "\n",
      "2024/09/19 20:50:13 WARNING mlflow.models.model: Model logged without a signature and input example. Please set `input_example` parameter when logging the model to auto infer the model signature.\n",
      "\n",
      "2024/09/19 20:50:26 INFO mlflow.tracking._tracking_service.client: 🏃 View run clean-chimp-662 at: https://dagshub.com/G4ll4rd0/nyc-taxi-time-prediction.mlflow/#/experiments/0/runs/dc509c60a3ca40ea9358f4c6509eae7a.\n",
      "\n",
      "2024/09/19 20:50:26 INFO mlflow.tracking._tracking_service.client: 🧪 View experiment at: https://dagshub.com/G4ll4rd0/nyc-taxi-time-prediction.mlflow/#/experiments/0.\n",
      "\n"
     ]
    },
    {
     "name": "stdout",
     "output_type": "stream",
     "text": [
      " 30%|███       | 3/10 [03:37<10:01, 85.93s/trial, best loss: 5.356859041160056]"
     ]
    },
    {
     "name": "stderr",
     "output_type": "stream",
     "text": [
      "2024/09/19 20:50:27 WARNING mlflow.sklearn: Failed to log training dataset information to MLflow Tracking. Reason: 'numpy.ndarray' object has no attribute 'toarray'\n",
      "\n",
      "2024/09/19 20:51:56 WARNING mlflow.models.model: Model logged without a signature and input example. Please set `input_example` parameter when logging the model to auto infer the model signature.\n",
      "\n",
      "2024/09/19 20:52:06 INFO mlflow.tracking._tracking_service.client: 🏃 View run sassy-cod-644 at: https://dagshub.com/G4ll4rd0/nyc-taxi-time-prediction.mlflow/#/experiments/0/runs/6f68408a45584f77921c8301bee6a4ce.\n",
      "\n",
      "2024/09/19 20:52:06 INFO mlflow.tracking._tracking_service.client: 🧪 View experiment at: https://dagshub.com/G4ll4rd0/nyc-taxi-time-prediction.mlflow/#/experiments/0.\n",
      "\n"
     ]
    },
    {
     "name": "stdout",
     "output_type": "stream",
     "text": [
      " 40%|████      | 4/10 [05:18<09:10, 91.72s/trial, best loss: 5.355434161417264]"
     ]
    },
    {
     "name": "stderr",
     "output_type": "stream",
     "text": [
      "2024/09/19 20:52:07 WARNING mlflow.sklearn: Failed to log training dataset information to MLflow Tracking. Reason: 'numpy.ndarray' object has no attribute 'toarray'\n",
      "\n",
      "2024/09/19 20:52:58 WARNING mlflow.models.model: Model logged without a signature and input example. Please set `input_example` parameter when logging the model to auto infer the model signature.\n",
      "\n",
      "2024/09/19 20:53:06 INFO mlflow.tracking._tracking_service.client: 🏃 View run thundering-seal-315 at: https://dagshub.com/G4ll4rd0/nyc-taxi-time-prediction.mlflow/#/experiments/0/runs/6b3dd69f6a934b7db553a218fb49eeed.\n",
      "\n",
      "2024/09/19 20:53:06 INFO mlflow.tracking._tracking_service.client: 🧪 View experiment at: https://dagshub.com/G4ll4rd0/nyc-taxi-time-prediction.mlflow/#/experiments/0.\n",
      "\n"
     ]
    },
    {
     "name": "stdout",
     "output_type": "stream",
     "text": [
      " 50%|█████     | 5/10 [06:17<06:39, 79.99s/trial, best loss: 5.355434161417264]"
     ]
    },
    {
     "name": "stderr",
     "output_type": "stream",
     "text": [
      "2024/09/19 20:53:06 WARNING mlflow.sklearn: Failed to log training dataset information to MLflow Tracking. Reason: 'numpy.ndarray' object has no attribute 'toarray'\n",
      "\n",
      "2024/09/19 20:55:02 WARNING mlflow.models.model: Model logged without a signature and input example. Please set `input_example` parameter when logging the model to auto infer the model signature.\n",
      "\n",
      "2024/09/19 20:55:13 INFO mlflow.tracking._tracking_service.client: 🏃 View run vaunted-rook-370 at: https://dagshub.com/G4ll4rd0/nyc-taxi-time-prediction.mlflow/#/experiments/0/runs/303de61d476d49dc8922bca63f96b194.\n",
      "\n",
      "2024/09/19 20:55:13 INFO mlflow.tracking._tracking_service.client: 🧪 View experiment at: https://dagshub.com/G4ll4rd0/nyc-taxi-time-prediction.mlflow/#/experiments/0.\n",
      "\n"
     ]
    },
    {
     "name": "stdout",
     "output_type": "stream",
     "text": [
      " 60%|██████    | 6/10 [08:25<06:25, 96.30s/trial, best loss: 5.355434161417264]"
     ]
    },
    {
     "name": "stderr",
     "output_type": "stream",
     "text": [
      "2024/09/19 20:55:15 WARNING mlflow.sklearn: Failed to log training dataset information to MLflow Tracking. Reason: 'numpy.ndarray' object has no attribute 'toarray'\n",
      "\n",
      "2024/09/19 20:55:35 WARNING mlflow.models.model: Model logged without a signature and input example. Please set `input_example` parameter when logging the model to auto infer the model signature.\n",
      "\n",
      "2024/09/19 20:55:41 INFO mlflow.tracking._tracking_service.client: 🏃 View run thoughtful-roo-64 at: https://dagshub.com/G4ll4rd0/nyc-taxi-time-prediction.mlflow/#/experiments/0/runs/985015b3abea4c16ab94be1c33728402.\n",
      "\n",
      "2024/09/19 20:55:41 INFO mlflow.tracking._tracking_service.client: 🧪 View experiment at: https://dagshub.com/G4ll4rd0/nyc-taxi-time-prediction.mlflow/#/experiments/0.\n",
      "\n"
     ]
    },
    {
     "name": "stdout",
     "output_type": "stream",
     "text": [
      " 70%|███████   | 7/10 [08:52<03:41, 73.69s/trial, best loss: 5.355434161417264]"
     ]
    },
    {
     "name": "stderr",
     "output_type": "stream",
     "text": [
      "2024/09/19 20:55:42 WARNING mlflow.sklearn: Failed to log training dataset information to MLflow Tracking. Reason: 'numpy.ndarray' object has no attribute 'toarray'\n",
      "\n",
      "2024/09/19 20:59:40 WARNING mlflow.models.model: Model logged without a signature and input example. Please set `input_example` parameter when logging the model to auto infer the model signature.\n",
      "\n",
      "2024/09/19 21:00:04 INFO mlflow.tracking._tracking_service.client: 🏃 View run wistful-crow-800 at: https://dagshub.com/G4ll4rd0/nyc-taxi-time-prediction.mlflow/#/experiments/0/runs/53de4d44555b4c05b5c49e4017389179.\n",
      "\n",
      "2024/09/19 21:00:04 INFO mlflow.tracking._tracking_service.client: 🧪 View experiment at: https://dagshub.com/G4ll4rd0/nyc-taxi-time-prediction.mlflow/#/experiments/0.\n",
      "\n"
     ]
    },
    {
     "name": "stdout",
     "output_type": "stream",
     "text": [
      " 80%|████████  | 8/10 [13:16<04:28, 134.20s/trial, best loss: 5.355434161417264]"
     ]
    },
    {
     "name": "stderr",
     "output_type": "stream",
     "text": [
      "2024/09/19 21:00:05 WARNING mlflow.sklearn: Failed to log training dataset information to MLflow Tracking. Reason: 'numpy.ndarray' object has no attribute 'toarray'\n",
      "\n",
      "2024/09/19 21:01:00 WARNING mlflow.models.model: Model logged without a signature and input example. Please set `input_example` parameter when logging the model to auto infer the model signature.\n",
      "\n",
      "2024/09/19 21:01:08 INFO mlflow.tracking._tracking_service.client: 🏃 View run shivering-ray-571 at: https://dagshub.com/G4ll4rd0/nyc-taxi-time-prediction.mlflow/#/experiments/0/runs/074cb82f058e4d8c8f97506520dedb39.\n",
      "\n",
      "2024/09/19 21:01:08 INFO mlflow.tracking._tracking_service.client: 🧪 View experiment at: https://dagshub.com/G4ll4rd0/nyc-taxi-time-prediction.mlflow/#/experiments/0.\n",
      "\n"
     ]
    },
    {
     "name": "stdout",
     "output_type": "stream",
     "text": [
      " 90%|█████████ | 9/10 [14:19<01:52, 112.05s/trial, best loss: 5.355434161417264]"
     ]
    },
    {
     "name": "stderr",
     "output_type": "stream",
     "text": [
      "2024/09/19 21:01:09 WARNING mlflow.sklearn: Failed to log training dataset information to MLflow Tracking. Reason: 'numpy.ndarray' object has no attribute 'toarray'\n",
      "\n",
      "2024/09/19 21:02:34 WARNING mlflow.models.model: Model logged without a signature and input example. Please set `input_example` parameter when logging the model to auto infer the model signature.\n",
      "\n",
      "2024/09/19 21:02:44 INFO mlflow.tracking._tracking_service.client: 🏃 View run angry-dove-139 at: https://dagshub.com/G4ll4rd0/nyc-taxi-time-prediction.mlflow/#/experiments/0/runs/16bc4e6019a644998077f9a9c129f410.\n",
      "\n",
      "2024/09/19 21:02:44 INFO mlflow.tracking._tracking_service.client: 🧪 View experiment at: https://dagshub.com/G4ll4rd0/nyc-taxi-time-prediction.mlflow/#/experiments/0.\n",
      "\n"
     ]
    },
    {
     "name": "stdout",
     "output_type": "stream",
     "text": [
      "100%|██████████| 10/10 [15:56<00:00, 95.61s/trial, best loss: 5.354853498846549] \n"
     ]
    },
    {
     "name": "stderr",
     "output_type": "stream",
     "text": [
      "2024/09/19 21:02:45 WARNING mlflow.sklearn: Failed to log training dataset information to MLflow Tracking. Reason: 'numpy.ndarray' object has no attribute 'toarray'\n",
      "2024/09/19 21:04:15 INFO mlflow.tracking._tracking_service.client: 🏃 View run RandomForest Hyper-parameter Optimization at: https://dagshub.com/G4ll4rd0/nyc-taxi-time-prediction.mlflow/#/experiments/0/runs/f62d1733bbfc4c89aaaf9f234759e2bf.\n",
      "2024/09/19 21:04:15 INFO mlflow.tracking._tracking_service.client: 🧪 View experiment at: https://dagshub.com/G4ll4rd0/nyc-taxi-time-prediction.mlflow/#/experiments/0.\n"
     ]
    }
   ],
   "source": [
    "with mlflow.start_run(run_name=\"RandomForest Hyper-parameter Optimization\", nested=True):\n",
    "    search_space = {\n",
    "        'max_depth': scope.int(hp.quniform('max_depth', 4, 100, 1)),\n",
    "        'n_estimators': scope.int(hp.quniform('n_estimators', 4, 100, 1)),\n",
    "        'criterion': 'squared_error',\n",
    "        'random_state': 20020906\n",
    "    }\n",
    "\n",
    "    best_params = fmin(\n",
    "        fn=objective,\n",
    "        space=search_space,\n",
    "        algo=tpe.suggest,\n",
    "        max_evals=10,\n",
    "        trials=Trials()\n",
    "    )\n",
    "    best_params[\"max_depth\"] = int(best_params[\"max_depth\"])\n",
    "    best_params[\"n_estimators\"] = int(best_params[\"n_estimators\"])\n",
    "    best_params[\"random_state\"] = 20020906\n",
    "    best_params[\"criterion\"] = \"squared_error\"\n",
    "\n",
    "    mlflow.log_params(best_params)\n",
    "\n",
    "    # Log tags\n",
    "    mlflow.set_tags(\n",
    "        tags={\n",
    "            \"project\": \"NYC Taxi Time Prediction Project\",\n",
    "            \"optimizer_engine\": \"hyper-opt\",\n",
    "            \"model_family\": \"RandomForest\",\n",
    "            \"feature_set_version\": 1,\n",
    "        }\n",
    "    )\n",
    "\n",
    "    # Log a fit model instance\n",
    "    booster = RandomForestRegressor(**best_params).fit(X_train, y_train)\n",
    "\n",
    "    y_pred = booster.predict(X_val)\n",
    "\n",
    "    rmse = root_mean_squared_error(y_val, y_pred)\n",
    "    mlflow.log_metric(\"rmse\", rmse)\n",
    "\n",
    "    pathlib.Path(\"models\").mkdir(exist_ok=True)\n",
    "    with open(\"models/preprocessor.b\", \"wb\") as f_out:\n",
    "        pickle.dump(dv, f_out)\n",
    "\n",
    "    mlflow.log_artifact(\"models/preprocessor.b\", artifact_path=\"preprocessor\")"
   ]
  },
  {
   "cell_type": "code",
   "execution_count": 15,
   "metadata": {},
   "outputs": [
    {
     "name": "stderr",
     "output_type": "stream",
     "text": [
      "Registered model 'nyc-taxi-model' already exists. Creating a new version of this model...\n",
      "2024/09/19 21:04:39 INFO mlflow.store.model_registry.abstract_store: Waiting up to 300 seconds for model version to finish creation. Model name: nyc-taxi-model, version 3\n",
      "Created version '3' of model 'nyc-taxi-model'.\n"
     ]
    }
   ],
   "source": [
    "run_id = input(\"Ingrese el run_id\")\n",
    "run_uri = f\"runs:/{run_id}/model\"\n",
    "\n",
    "result = mlflow.register_model(\n",
    "    model_uri=run_uri,\n",
    "    name=\"nyc-taxi-model\"\n",
    ")"
   ]
  },
  {
   "cell_type": "code",
   "execution_count": 16,
   "metadata": {},
   "outputs": [
    {
     "data": {
      "text/plain": [
       "<ModelVersion: aliases=['ForestChallenger'], creation_timestamp=1726801480610, current_stage='None', description=('The model version 3 was transitioned to ForestChallenger on 2024-09-19 '\n",
       " '21:04:39.997590'), last_updated_timestamp=1726801481098, name='nyc-taxi-model', run_id='f62d1733bbfc4c89aaaf9f234759e2bf', run_link='', source='mlflow-artifacts:/63ce2eff028d42fda8747e5857239051/f62d1733bbfc4c89aaaf9f234759e2bf/artifacts/model', status='READY', status_message='', tags={}, user_id='', version='3'>"
      ]
     },
     "execution_count": 16,
     "metadata": {},
     "output_type": "execute_result"
    }
   ],
   "source": [
    "client = mlflow.MlflowClient(tracking_uri=MLFLOW_TRACKING_URI)\n",
    "client.update_registered_model(\n",
    "    name=\"nyc-taxi-model\",\n",
    "    description=\"Model registry for the NYC Taxi Time Prediction Project\",\n",
    ")\n",
    "\n",
    "new_alias = \"ForestChallenger\"\n",
    "date = datetime.today()\n",
    "model_version = \"3\"\n",
    "\n",
    "# create \"champion\" alias for version 1 of model \"nyc-taxi-model\"\n",
    "client.set_registered_model_alias(\n",
    "    name=\"nyc-taxi-model\",\n",
    "    alias=new_alias,\n",
    "    version=model_version\n",
    ")\n",
    "\n",
    "client.update_model_version(\n",
    "    name=\"nyc-taxi-model\",\n",
    "    version=model_version,\n",
    "    description=f\"The model version {model_version} was transitioned to {new_alias} on {date}\",\n",
    ")"
   ]
  },
  {
   "cell_type": "markdown",
   "metadata": {},
   "source": [
    "# Champion vs Challengers"
   ]
  },
  {
   "cell_type": "code",
   "execution_count": 17,
   "metadata": {},
   "outputs": [
    {
     "name": "stderr",
     "output_type": "stream",
     "text": [
      "  % Total    % Received % Xferd  Average Speed   Time    Time     Time  Current\n",
      "                                 Dload  Upload   Total   Spent    Left  Speed\n",
      "\n",
      "  0     0    0     0    0     0      0      0 --:--:-- --:--:-- --:--:--     0\n",
      "  0 1340k    0     0    0     0      0      0 --:--:-- --:--:-- --:--:--     0\n",
      "100 1340k  100 1340k    0     0  1208k      0  0:00:01  0:00:01 --:--:-- 1217k\n"
     ]
    }
   ],
   "source": [
    "# Download march\n",
    "!curl -o ../data/green_tripdata_2024-03.parquet https://d37ci6vzurychx.cloudfront.net/trip-data/green_tripdata_2024-03.parquet"
   ]
  },
  {
   "cell_type": "code",
   "execution_count": 18,
   "metadata": {},
   "outputs": [],
   "source": [
    "def read_dataframe(filename):\n",
    "    df = pd.read_parquet(filename)\n",
    "\n",
    "    df.lpep_dropoff_datetime = pd.to_datetime(df.lpep_dropoff_datetime)\n",
    "    df.lpep_pickup_datetime = pd.to_datetime(df.lpep_pickup_datetime)\n",
    "\n",
    "    df['duration'] = df.lpep_dropoff_datetime - df.lpep_pickup_datetime\n",
    "    df.duration = df.duration.apply(lambda td: td.total_seconds() / 60)\n",
    "\n",
    "    df = df[(df.duration >= 1) & (df.duration <= 60)]\n",
    "\n",
    "    categorical = ['PULocationID', 'DOLocationID']\n",
    "    df[categorical] = df[categorical].astype(str)\n",
    "    \n",
    "    return df\n",
    "\n",
    "\n",
    "def preprocess(df, dv):\n",
    "    df['PU_DO'] = df['PULocationID'] + '_' + df['DOLocationID']\n",
    "    categorical = ['PU_DO']\n",
    "    numerical = ['trip_distance']\n",
    "    train_dicts = df[categorical + numerical].to_dict(orient='records')\n",
    "    return dv.transform(train_dicts)\n",
    "\n",
    "\n",
    "def test_model(name, alias, X_test, y_test):\n",
    "    model = mlflow.pyfunc.load_model(f\"models:/{name}@{alias}\")\n",
    "    y_pred = model.predict(X_test)\n",
    "    return {\"rmse\": root_mean_squared_error(y_test, y_pred), 'r2': r2_score(y_test, y_pred), 'mape': mean_absolute_percentage_error(y_test, y_pred)}"
   ]
  },
  {
   "cell_type": "code",
   "execution_count": 20,
   "metadata": {},
   "outputs": [],
   "source": [
    "df = read_dataframe(\"../data/green_tripdata_2024-03.parquet\")"
   ]
  },
  {
   "cell_type": "code",
   "execution_count": 21,
   "metadata": {},
   "outputs": [],
   "source": [
    "with open(\"models/preprocessor.b\", \"rb\") as f_in:\n",
    "    dv = pickle.load(f_in)"
   ]
  },
  {
   "cell_type": "code",
   "execution_count": 22,
   "metadata": {},
   "outputs": [],
   "source": [
    "X_test = preprocess(df, dv)\n",
    "target = \"duration\"\n",
    "y_test = df[target].values"
   ]
  },
  {
   "cell_type": "code",
   "execution_count": 23,
   "metadata": {},
   "outputs": [
    {
     "data": {
      "application/vnd.jupyter.widget-view+json": {
       "model_id": "acba059ca64341368c69c8127cf60e3a",
       "version_major": 2,
       "version_minor": 0
      },
      "text/plain": [
       "Downloading artifacts:   0%|          | 0/5 [00:00<?, ?it/s]"
      ]
     },
     "metadata": {},
     "output_type": "display_data"
    },
    {
     "name": "stdout",
     "output_type": "stream",
     "text": [
      "CPU times: total: 7.47 s\n",
      "Wall time: 4.89 s\n"
     ]
    },
    {
     "data": {
      "text/plain": [
       "{'rmse': np.float64(5.226208716048294),\n",
       " 'r2': 0.672599249427333,\n",
       " 'mape': np.float64(0.2907673419338061)}"
      ]
     },
     "execution_count": 23,
     "metadata": {},
     "output_type": "execute_result"
    }
   ],
   "source": [
    "%time test_model(name=\"nyc-taxi-model\", alias=\"champion\", X_test=X_test, y_test=y_test)"
   ]
  },
  {
   "cell_type": "code",
   "execution_count": 24,
   "metadata": {},
   "outputs": [
    {
     "data": {
      "application/vnd.jupyter.widget-view+json": {
       "model_id": "979f26ed802a452eb0a4824c9b403798",
       "version_major": 2,
       "version_minor": 0
      },
      "text/plain": [
       "Downloading artifacts:   0%|          | 0/5 [00:00<?, ?it/s]"
      ]
     },
     "metadata": {},
     "output_type": "display_data"
    },
    {
     "name": "stdout",
     "output_type": "stream",
     "text": [
      "CPU times: total: 1.03 s\n",
      "Wall time: 2.22 s\n"
     ]
    },
    {
     "data": {
      "text/plain": [
       "{'rmse': np.float64(5.300469297255932),\n",
       " 'r2': 0.6632288985420741,\n",
       " 'mape': np.float64(0.28121172742162676)}"
      ]
     },
     "execution_count": 24,
     "metadata": {},
     "output_type": "execute_result"
    }
   ],
   "source": [
    "%time test_model(name=\"nyc-taxi-model\", alias=\"GradientChallenger\", X_test=X_test, y_test=y_test)"
   ]
  },
  {
   "cell_type": "code",
   "execution_count": 25,
   "metadata": {},
   "outputs": [
    {
     "data": {
      "application/vnd.jupyter.widget-view+json": {
       "model_id": "b9911866393742cda45a2e8e61288ee2",
       "version_major": 2,
       "version_minor": 0
      },
      "text/plain": [
       "Downloading artifacts:   0%|          | 0/5 [00:00<?, ?it/s]"
      ]
     },
     "metadata": {},
     "output_type": "display_data"
    },
    {
     "name": "stdout",
     "output_type": "stream",
     "text": [
      "CPU times: total: 1.42 s\n",
      "Wall time: 3.01 s\n"
     ]
    },
    {
     "data": {
      "text/plain": [
       "{'rmse': np.float64(5.401799719101317),\n",
       " 'r2': 0.6502295411224656,\n",
       " 'mape': np.float64(0.28407109827423793)}"
      ]
     },
     "execution_count": 25,
     "metadata": {},
     "output_type": "execute_result"
    }
   ],
   "source": [
    "%time test_model(name=\"nyc-taxi-model\", alias=\"ForestChallenger\", X_test=X_test, y_test=y_test)"
   ]
  },
  {
   "cell_type": "markdown",
   "metadata": {},
   "source": [
    "Ninuno de los dos challengers debe de ser promovido, aunque bajan ambos el MAPE en ~1%, se nota también un descenso en la R<sup>2</sup>, esto, sumado a un aumento en el RMSE sugiere que se debe mantener el primer modelo en producción por el momento"
   ]
  }
 ],
 "metadata": {
  "kernelspec": {
   "display_name": ".venv",
   "language": "python",
   "name": "python3"
  },
  "language_info": {
   "codemirror_mode": {
    "name": "ipython",
    "version": 3
   },
   "file_extension": ".py",
   "mimetype": "text/x-python",
   "name": "python",
   "nbconvert_exporter": "python",
   "pygments_lexer": "ipython3",
   "version": "3.12.6"
  }
 },
 "nbformat": 4,
 "nbformat_minor": 2
}
